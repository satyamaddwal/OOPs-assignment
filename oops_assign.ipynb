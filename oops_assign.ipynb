{
 "cells": [
  {
   "cell_type": "code",
   "execution_count": 1,
   "id": "1a45764a-0bf1-4a3c-b6a0-ba12683ec126",
   "metadata": {},
   "outputs": [
    {
     "data": {
      "text/plain": [
       "'\\nQ1. Explain the importance of Functions.\\n\\nSOl.\\nFunctions are named blocks of code designed to achieve specific outcomes. They encapsulate a set of instructions that can be executed whenever needed.\\nFunctions break down complex problems into manageable chunks, making our lives as programmers much easier.\\n\\nAdvantage:\\n  Reusability of Code: Functions allow us to reuse the same code multiple times without duplication. This promotes efficiency and reduces redundancy.\\n  Modularity and Readability: By organizing logic into individual functions, we enhance code readability. Instead of sifting through endless lines of code,\\n                              we can focus on specific functions, making maintenance easier.\\n\\nFunction Parameters and Return Values:\\n  Passing Parameters: Parameters act as messengers, delivering information to functions. By passing parameters, we customize function behavior based on input.\\n  Returning Values: Functions can send back valuable results (return values) to the rest of the program. This enables seamless communication and data flow.\\n'"
      ]
     },
     "execution_count": 1,
     "metadata": {},
     "output_type": "execute_result"
    }
   ],
   "source": [
    "\"\"\"\n",
    "Q1. Explain the importance of Functions.\n",
    "\n",
    "SOl.\n",
    "Functions are named blocks of code designed to achieve specific outcomes. They encapsulate a set of instructions that can be executed whenever needed.\n",
    "Functions break down complex problems into manageable chunks, making our lives as programmers much easier.\n",
    "\n",
    "Advantage:\n",
    "  Reusability of Code: Functions allow us to reuse the same code multiple times without duplication. This promotes efficiency and reduces redundancy.\n",
    "  Modularity and Readability: By organizing logic into individual functions, we enhance code readability. Instead of sifting through endless lines of code,\n",
    "                              we can focus on specific functions, making maintenance easier.\n",
    "\n",
    "Function Parameters and Return Values:\n",
    "  Passing Parameters: Parameters act as messengers, delivering information to functions. By passing parameters, we customize function behavior based on input.\n",
    "  Returning Values: Functions can send back valuable results (return values) to the rest of the program. This enables seamless communication and data flow.\n",
    "\"\"\""
   ]
  },
  {
   "cell_type": "code",
   "execution_count": 7,
   "id": "78f9043e-652a-4734-ba8a-57b7bafeb365",
   "metadata": {},
   "outputs": [
    {
     "name": "stdout",
     "output_type": "stream",
     "text": [
      "Good morning Ram Have a good day\n"
     ]
    }
   ],
   "source": [
    "\"\"\"\n",
    "Q2.  Write a basic function to greet students.\n",
    "\"\"\"\n",
    "\n",
    "def greet(name):\n",
    "    print (\"Good morning\",name,\"Have a good day\")\n",
    "\n",
    "greet(\"Ram\")"
   ]
  },
  {
   "cell_type": "code",
   "execution_count": 8,
   "id": "8b201adc-1c1e-4fc0-9bf9-40894bf410e0",
   "metadata": {},
   "outputs": [
    {
     "data": {
      "text/plain": [
       "'\\nQ3.  What is the difference between print and return statements?\\n\\nSOL.\\nThe print statement is used to display information on the screen (console or terminal).\\nIt does not affect the program flow; execution continues normally after printing.\\nwhile\\nThe return statement is used to exit a function and return a value to the calling code.\\nIt ends the function execution and sends a value back.\\n'"
      ]
     },
     "execution_count": 8,
     "metadata": {},
     "output_type": "execute_result"
    }
   ],
   "source": [
    "\"\"\"\n",
    "Q3.  What is the difference between print and return statements?\n",
    "\n",
    "SOL.\n",
    "The print statement is used to display information on the screen (console or terminal).\n",
    "It does not affect the program flow; execution continues normally after printing.\n",
    "while\n",
    "The return statement is used to exit a function and return a value to the calling code.\n",
    "It ends the function execution and sends a value back.\n",
    "\"\"\""
   ]
  },
  {
   "cell_type": "code",
   "execution_count": 9,
   "id": "3018a48b-8af5-4121-ad0e-08ffe53206db",
   "metadata": {},
   "outputs": [
    {
     "data": {
      "text/plain": [
       "'\\nQ4. What are *args and **kwargs?\\n\\nSOL.\\nThe special syntax *args in function definitions allows us to pass a variable number of non-keyworded arguments to a function.\\nIt is used to create a variable-length argument list.\\nWith *args, you can accept more arguments than the number of formal parameters you previously defined.\\n\\nThe special syntax **kwargs in function definitions is used to pass a keyworded, variable-length argument list.\\nWe use the name kwargs with the double star (**).\\nIt allows us to pass through keyword arguments, and any number of them.\\n'"
      ]
     },
     "execution_count": 9,
     "metadata": {},
     "output_type": "execute_result"
    }
   ],
   "source": [
    "\"\"\"\n",
    "Q4. What are *args and **kwargs?\n",
    "\n",
    "SOL.\n",
    "The special syntax *args in function definitions allows us to pass a variable number of non-keyworded arguments to a function.\n",
    "It is used to create a variable-length argument list.\n",
    "With *args, you can accept more arguments than the number of formal parameters you previously defined.\n",
    "\n",
    "The special syntax **kwargs in function definitions is used to pass a keyworded, variable-length argument list.\n",
    "We use the name kwargs with the double star (**).\n",
    "It allows us to pass through keyword arguments, and any number of them.\n",
    "\"\"\""
   ]
  },
  {
   "cell_type": "code",
   "execution_count": 10,
   "id": "76f0ca37-7737-4633-bace-e99ed6a43107",
   "metadata": {},
   "outputs": [
    {
     "data": {
      "text/plain": [
       "'\\nQ5.  Explain the iterator function.\\n\\nSOL.\\nAn iterator is an object used to iterate over iterable collections (such as lists, tuples, dictionaries, and sets).\\nIt allows us to process each element of a container while abstracting away the internal structure of that container.\\nThink of iterators as pointers that keep track of the current position within the collection.\\n'"
      ]
     },
     "execution_count": 10,
     "metadata": {},
     "output_type": "execute_result"
    }
   ],
   "source": [
    "\"\"\"\n",
    "Q5.  Explain the iterator function.\n",
    "\n",
    "SOL.\n",
    "An iterator is an object used to iterate over iterable collections (such as lists, tuples, dictionaries, and sets).\n",
    "It allows us to process each element of a container while abstracting away the internal structure of that container.\n",
    "Think of iterators as pointers that keep track of the current position within the collection.\n",
    "\"\"\""
   ]
  },
  {
   "cell_type": "code",
   "execution_count": 19,
   "id": "c395196c-c645-403b-ae87-441a91a2b6f3",
   "metadata": {},
   "outputs": [
    {
     "data": {
      "text/plain": [
       "1"
      ]
     },
     "execution_count": 19,
     "metadata": {},
     "output_type": "execute_result"
    }
   ],
   "source": [
    "\"\"\"\n",
    "Q6.  Write a code that generates the squares of numbers from 1 to n using a generator.\n",
    "\"\"\"\n",
    "def square(n):\n",
    "    for i in range(1,n+1):\n",
    "        yield(i**2)\n",
    "\n",
    "gen = square(3)\n",
    "next(gen)"
   ]
  },
  {
   "cell_type": "code",
   "execution_count": 20,
   "id": "1f8180ba-882e-4329-a92d-3e23c375e0b3",
   "metadata": {},
   "outputs": [
    {
     "data": {
      "text/plain": [
       "4"
      ]
     },
     "execution_count": 20,
     "metadata": {},
     "output_type": "execute_result"
    }
   ],
   "source": [
    "next(gen)"
   ]
  },
  {
   "cell_type": "code",
   "execution_count": 21,
   "id": "683fd58a-1ac0-4923-966a-2d333b3e8f10",
   "metadata": {},
   "outputs": [
    {
     "data": {
      "text/plain": [
       "9"
      ]
     },
     "execution_count": 21,
     "metadata": {},
     "output_type": "execute_result"
    }
   ],
   "source": [
    "next(gen)"
   ]
  },
  {
   "cell_type": "code",
   "execution_count": 6,
   "id": "bd595dad-a641-425c-80ac-e580d2284a48",
   "metadata": {},
   "outputs": [
    {
     "name": "stdout",
     "output_type": "stream",
     "text": [
      "0\n",
      "1\n",
      "2\n",
      "3\n",
      "4\n",
      "5\n",
      "6\n",
      "7\n",
      "8\n",
      "9\n",
      "11\n"
     ]
    }
   ],
   "source": [
    "\"\"\"\n",
    "Q7.  Write a code that generates palindromic numbers up to n using a generator.\n",
    "\"\"\"\n",
    "def palin(n):\n",
    "    for i in range(n):\n",
    "        if str(i)==str(i)[::-1]:\n",
    "            yield i\n",
    "            \n",
    "# ex:\n",
    "for num in palin(20):\n",
    "    print(num)"
   ]
  },
  {
   "cell_type": "code",
   "execution_count": 9,
   "id": "cebbfd70-bb24-453f-8407-83708f5b75ac",
   "metadata": {},
   "outputs": [
    {
     "name": "stdout",
     "output_type": "stream",
     "text": [
      "0\n",
      "2\n",
      "4\n",
      "6\n",
      "8\n",
      "10\n",
      "12\n",
      "14\n",
      "16\n",
      "18\n",
      "20\n"
     ]
    }
   ],
   "source": [
    "\"\"\"\n",
    "Q8.  Write a code that generates even numbers from 2 to n using a generator.\n",
    "\"\"\"\n",
    "def even_num(n):\n",
    "    for i in range(n+1):\n",
    "        if i%2 ==0:\n",
    "            yield (i)\n",
    "# ex:           \n",
    "for i in even_num(20):\n",
    "    print(i)"
   ]
  },
  {
   "cell_type": "code",
   "execution_count": 1,
   "id": "a4dec79a-21dd-4f3a-93ba-566b64fe5c4e",
   "metadata": {},
   "outputs": [
    {
     "name": "stdout",
     "output_type": "stream",
     "text": [
      "0\n",
      "1\n",
      "16\n",
      "81\n",
      "256\n",
      "625\n",
      "1296\n",
      "2401\n",
      "4096\n",
      "6561\n",
      "10000\n"
     ]
    }
   ],
   "source": [
    "\"\"\"\n",
    "Q9.  Write a code that generates powers of two up to n using a generator.\n",
    "\"\"\"\n",
    "\n",
    "def double_power(n):\n",
    "    for i in range(n+1):\n",
    "        yield((i**2)**2)\n",
    "        \n",
    "# ex:\n",
    "for i in double_power(10):\n",
    "    print(i)"
   ]
  },
  {
   "cell_type": "code",
   "execution_count": 44,
   "id": "db5845f0-7dfa-40b1-8eb1-baae2c234d80",
   "metadata": {},
   "outputs": [
    {
     "name": "stdout",
     "output_type": "stream",
     "text": [
      "3\n",
      "5\n",
      "7\n",
      "11\n",
      "13\n",
      "17\n",
      "19\n",
      "23\n",
      "29\n",
      "31\n",
      "37\n",
      "41\n",
      "43\n",
      "47\n",
      "53\n",
      "59\n",
      "61\n",
      "67\n",
      "71\n",
      "73\n",
      "79\n",
      "83\n",
      "89\n",
      "97\n"
     ]
    }
   ],
   "source": [
    "\"\"\"\n",
    "Q10.  Write a code that generates prime numbers up to n using a generator.\n",
    "\"\"\"\n",
    "def prime_gen(num):\n",
    "    def is_prime(n):\n",
    "        if n <=1:\n",
    "                return False\n",
    "        elif n>2:\n",
    "            for i in range(2,int(n**0.5)+1):\n",
    "                if n%i == 0:\n",
    "                    return False\n",
    "            return True \n",
    "    \n",
    "    for i in range(num+1):\n",
    "        if is_prime(i)== True:\n",
    "            yield i\n",
    "    \n",
    "        \n",
    "        \n",
    "# ex:\n",
    "for i in prime_gen(100):\n",
    "    print(i)"
   ]
  },
  {
   "cell_type": "code",
   "execution_count": 45,
   "id": "f7aa20ff-a369-4968-8e51-2f01e0a17079",
   "metadata": {},
   "outputs": [
    {
     "data": {
      "text/plain": [
       "9"
      ]
     },
     "execution_count": 45,
     "metadata": {},
     "output_type": "execute_result"
    }
   ],
   "source": [
    "\"\"\"\n",
    "Q11.  Write a code that uses a lambda function to calculate the sum of two numbers.\n",
    "\"\"\"\n",
    "adding = lambda x,y: x+y\n",
    "\n",
    "# ex:\n",
    "adding(4,5)"
   ]
  },
  {
   "cell_type": "code",
   "execution_count": 46,
   "id": "ea757109-4fa0-45da-a4d2-3dc02c59d5a9",
   "metadata": {},
   "outputs": [
    {
     "data": {
      "text/plain": [
       "25"
      ]
     },
     "execution_count": 46,
     "metadata": {},
     "output_type": "execute_result"
    }
   ],
   "source": [
    "\"\"\"\n",
    "Q12. Write a code that uses a lambda function to calculate the square of a given number.\n",
    "\"\"\"\n",
    "\n",
    "square = lambda x: x**2\n",
    "\n",
    "#ex: \n",
    "square(5)"
   ]
  },
  {
   "cell_type": "code",
   "execution_count": 63,
   "id": "cdd67062-1308-42d6-bf7d-06a171697fe3",
   "metadata": {},
   "outputs": [
    {
     "name": "stdout",
     "output_type": "stream",
     "text": [
      "Odd\n"
     ]
    }
   ],
   "source": [
    "\"\"\"\n",
    "Q13. Write a code that uses a lambda function to check whether a given number is even or odd.\n",
    "\"\"\"\n",
    "\n",
    "iss_even = lambda x:print(\"Even\") if x%2 == 0 else print(\"Odd\")\n",
    "\n",
    "# ex:\n",
    "iss_even(5)"
   ]
  },
  {
   "cell_type": "code",
   "execution_count": 65,
   "id": "9e6d4de1-e934-4ac2-b091-d53ea6deccd6",
   "metadata": {},
   "outputs": [
    {
     "data": {
      "text/plain": [
       "'Hello Everyone'"
      ]
     },
     "execution_count": 65,
     "metadata": {},
     "output_type": "execute_result"
    }
   ],
   "source": [
    "\"\"\"\n",
    "Q15.  Write a code that uses a lambda function to concatenate two strings.\n",
    "\"\"\"\n",
    "\n",
    "adding1 = lambda x,y: x+\" \"+y\n",
    "\n",
    "# ex:\n",
    "adding1(\"Hello\",\"Everyone\")"
   ]
  },
  {
   "cell_type": "code",
   "execution_count": 67,
   "id": "96f8beb1-1780-4240-b89f-aa785de52fd2",
   "metadata": {},
   "outputs": [
    {
     "data": {
      "text/plain": [
       "9"
      ]
     },
     "execution_count": 67,
     "metadata": {},
     "output_type": "execute_result"
    }
   ],
   "source": [
    "\"\"\"\n",
    "Q16.  Write a code that uses a lambda function to find the maximum of three given numbers.\n",
    "\"\"\"\n",
    "\n",
    "maximum = lambda x,y,z:max(x,y,z)\n",
    "\n",
    "# ex: \n",
    "maximum(4,5,9)"
   ]
  },
  {
   "cell_type": "code",
   "execution_count": 68,
   "id": "d8de9bd0-475e-4144-b9c0-4c2bae93a931",
   "metadata": {},
   "outputs": [
    {
     "data": {
      "text/plain": [
       "[4, 16, 36, 64]"
      ]
     },
     "execution_count": 68,
     "metadata": {},
     "output_type": "execute_result"
    }
   ],
   "source": [
    "\"\"\"\n",
    "Q17.  Write a code that generates the squares of even numbers from a given list.\n",
    "\"\"\"\n",
    "p=[]\n",
    "def even_sq(n):\n",
    "    for i in n :\n",
    "        if i%2 == 0:\n",
    "            p.append(i**2)\n",
    "    return p\n",
    "\n",
    "# ex: \n",
    "even_sq([1,2,3,4,5,6,7,8,9])"
   ]
  },
  {
   "cell_type": "code",
   "execution_count": 1,
   "id": "78f293b8-3bc6-417f-b50b-d3479671dd28",
   "metadata": {},
   "outputs": [
    {
     "data": {
      "text/plain": [
       "70"
      ]
     },
     "execution_count": 1,
     "metadata": {},
     "output_type": "execute_result"
    }
   ],
   "source": [
    "\"\"\"\n",
    "Q18.  Write a code that calculates the product of positive numbers from a given list.\n",
    "\"\"\"\n",
    "def pos_list(n):\n",
    "    k = 1\n",
    "    for i in n:\n",
    "        if i >0:\n",
    "            k= k*i\n",
    "    return k \n",
    "\n",
    "# ex:\n",
    "pos_list([1,5,7,0,-9,2,-4])"
   ]
  },
  {
   "cell_type": "code",
   "execution_count": 3,
   "id": "e282a74a-4569-4a38-8f6f-6c0f371b2541",
   "metadata": {},
   "outputs": [
    {
     "data": {
      "text/plain": [
       "[2, 2, 6, 4, 10, 6]"
      ]
     },
     "execution_count": 3,
     "metadata": {},
     "output_type": "execute_result"
    }
   ],
   "source": [
    "\"\"\"\n",
    "Q19.  Write a code that doubles the values of odd numbers from a given list.\n",
    "\"\"\"\n",
    "\n",
    "def double_odd(n):\n",
    "    k=[]\n",
    "    for i in n:\n",
    "        if i%2 ==1:\n",
    "            k.append(2*i)\n",
    "        else:\n",
    "            k.append(i)\n",
    "    return k\n",
    "\n",
    "#ex:\n",
    "double_odd([1,2,3,4,5,6])"
   ]
  },
  {
   "cell_type": "code",
   "execution_count": 4,
   "id": "d2e408ec-ecf7-465d-8c63-7aae23c96e5a",
   "metadata": {},
   "outputs": [
    {
     "data": {
      "text/plain": [
       "441"
      ]
     },
     "execution_count": 4,
     "metadata": {},
     "output_type": "execute_result"
    }
   ],
   "source": [
    "\"\"\"\n",
    "Q20.  Write a code that calculates the sum of cubes of numbers from a given list.\n",
    "\"\"\"\n",
    "\n",
    "def cube_sum(n):\n",
    "    k = 0\n",
    "    for i in n:\n",
    "        k = k+i**3\n",
    "    return k\n",
    "\n",
    "#ex:\n",
    "cube_sum([1,2,3,4,5,6])"
   ]
  },
  {
   "cell_type": "code",
   "execution_count": 17,
   "id": "63c177a8-e3d3-48ac-a058-d1a5708e4e80",
   "metadata": {},
   "outputs": [
    {
     "data": {
      "text/plain": [
       "[2, 3, 5, 7, 11]"
      ]
     },
     "execution_count": 17,
     "metadata": {},
     "output_type": "execute_result"
    }
   ],
   "source": [
    "\"\"\"\n",
    "Q21.  Write a code that filters out prime numbers from a given list.\n",
    "\"\"\"\n",
    "\n",
    "def is_prime(num):\n",
    "    if num <= 1:\n",
    "        return False\n",
    "    for i in range(2, int(num**0.5) + 1):\n",
    "        if num % i == 0:\n",
    "            return False\n",
    "    return True\n",
    "\n",
    "def filter_primes(numbers):\n",
    "    return [num for num in numbers if is_prime(num)]\n",
    "\n",
    "\n",
    "#ex: \n",
    "filter_primes([2,3,4,5,6,7,8,9,10,11])"
   ]
  },
  {
   "cell_type": "code",
   "execution_count": 18,
   "id": "d9ed578f-3454-41ff-abea-48830393b581",
   "metadata": {},
   "outputs": [
    {
     "data": {
      "text/plain": [
       "13"
      ]
     },
     "execution_count": 18,
     "metadata": {},
     "output_type": "execute_result"
    }
   ],
   "source": [
    "\"\"\"\n",
    "Q22.  Write a code that uses a lambda function to calculate the sum of two numbers.\n",
    "\"\"\"\n",
    "\n",
    "adding1 = lambda x,y:x+y\n",
    "\n",
    "#ex:\n",
    "adding1(4,9)"
   ]
  },
  {
   "cell_type": "code",
   "execution_count": 19,
   "id": "c84fe373-3bda-4e4b-8af3-f51eb75e9f1e",
   "metadata": {},
   "outputs": [
    {
     "data": {
      "text/plain": [
       "25"
      ]
     },
     "execution_count": 19,
     "metadata": {},
     "output_type": "execute_result"
    }
   ],
   "source": [
    "\"\"\"\n",
    "Q23. Write a code that uses a lambda function to calculate the square of a given number.\n",
    "\"\"\"\n",
    "square_1 = lambda x:x**2\n",
    "\n",
    "# ex:\n",
    "square_1(5)"
   ]
  },
  {
   "cell_type": "code",
   "execution_count": 20,
   "id": "bb4a533c-f7d3-4819-beb0-21261f1e90ff",
   "metadata": {},
   "outputs": [
    {
     "name": "stdout",
     "output_type": "stream",
     "text": [
      "Even\n"
     ]
    }
   ],
   "source": [
    "\"\"\"\n",
    "Q24.  Write a code that uses a lambda function to check whether a given number is even or odd.\n",
    "\"\"\"\n",
    "iss_even1 = lambda x:print(\"Even\") if x%2 == 0 else print(\"Odd\")\n",
    "\n",
    "# ex:\n",
    "iss_even1(8)"
   ]
  },
  {
   "cell_type": "code",
   "execution_count": 21,
   "id": "6bc329f5-8af8-4f83-99cd-723aab09b34a",
   "metadata": {},
   "outputs": [
    {
     "data": {
      "text/plain": [
       "'Hello Everyone'"
      ]
     },
     "execution_count": 21,
     "metadata": {},
     "output_type": "execute_result"
    }
   ],
   "source": [
    "\"\"\"\n",
    "Q25. Write a code that uses a lambda function to concatenate two strings.\n",
    "\"\"\"\n",
    "adding2 = lambda x,y: x+\" \"+y\n",
    "\n",
    "# ex:\n",
    "adding2(\"Hello\",\"Everyone\")"
   ]
  },
  {
   "cell_type": "code",
   "execution_count": 24,
   "id": "7372ea67-1ce8-4288-a49f-ca77dd7cb05c",
   "metadata": {},
   "outputs": [
    {
     "data": {
      "text/plain": [
       "78"
      ]
     },
     "execution_count": 24,
     "metadata": {},
     "output_type": "execute_result"
    }
   ],
   "source": [
    "\"\"\"\n",
    "Q26.  Write a code that uses a lambda function to find the maximum of three given numbers.\n",
    "\"\"\"\n",
    "maximum_1 = lambda x,y,z:max(x,y,z)\n",
    "\n",
    "# ex: \n",
    "maximum_1(-96,78,9)"
   ]
  },
  {
   "cell_type": "code",
   "execution_count": 25,
   "id": "4e44871b-01b0-4b03-a515-4c98e01a2ffd",
   "metadata": {},
   "outputs": [
    {
     "data": {
      "text/plain": [
       "'\\nQ27. What is encapsulation in OOP?\\n\\nSOL.\\nEncapsulation is one of the fundamental concepts in object-oriented programming (OOP).\\nIt involves bundling data (attributes) and the methods (functions) that operate on that data within a single unit, typically a class.\\n'"
      ]
     },
     "execution_count": 25,
     "metadata": {},
     "output_type": "execute_result"
    }
   ],
   "source": [
    "\"\"\"\n",
    "Q27. What is encapsulation in OOP?\n",
    "\n",
    "SOL.\n",
    "Encapsulation is one of the fundamental concepts in object-oriented programming (OOP).\n",
    "It involves bundling data (attributes) and the methods (functions) that operate on that data within a single unit, typically a class.\n",
    "\"\"\""
   ]
  },
  {
   "cell_type": "code",
   "execution_count": 26,
   "id": "ebc604b5-adb4-42fd-81e5-dbf644f096b9",
   "metadata": {},
   "outputs": [
    {
     "data": {
      "text/plain": [
       "'\\nQ28. Explain the use of access modifiers in Python classes.\\n\\nSOL.\\nAccess modifiers are used to control the accessibility of class members, such as attributes and methods. There are three types of access modifiers in Python:\\n\\nPublic Access Modifier: By default, all members of a class are public. Public members can be accessed from anywhere in the program. There is no explicit keyword for declaring a member public; you simply define them without any underscores.\\nProtected Access Modifier: Members are declared protected by prefixing them with a single underscore _. Protected members are intended to be used within the class and its subclasses only. It’s more of a convention than enforced by the language.\\nPrivate Access Modifier: Members are declared private by prefixing them with a double underscore __. Private members are accessible only within the class itself. Python performs name mangling of private variables. \\n                         The interpreter changes the name of the variable in a way that makes it harder to create subclasses that accidentally override the private attributes and methods.\\n'"
      ]
     },
     "execution_count": 26,
     "metadata": {},
     "output_type": "execute_result"
    }
   ],
   "source": [
    "\"\"\"\n",
    "Q28. Explain the use of access modifiers in Python classes.\n",
    "\n",
    "SOL.\n",
    "Access modifiers are used to control the accessibility of class members, such as attributes and methods. There are three types of access modifiers in Python:\n",
    "\n",
    "Public Access Modifier: By default, all members of a class are public. Public members can be accessed from anywhere in the program. \n",
    "                        There is no explicit keyword for declaring a member public; you simply define them without any underscores.\n",
    "Protected Access Modifier: Members are declared protected by prefixing them with a single underscore _. Protected members are intended to be used within the class \n",
    "                         and its subclasses only. It’s more of a convention than enforced by the language.\n",
    "Private Access Modifier: Members are declared private by prefixing them with a double underscore __. Private members are accessible only within the class itself. \n",
    "                         Python performs name mangling of private variables. The interpreter changes the name of the variable in a way that makes it harder to \n",
    "                         create subclasses that accidentally override the private attributes and methods.\n",
    "\"\"\"                       "
   ]
  },
  {
   "cell_type": "code",
   "execution_count": 27,
   "id": "cfc36cd8-ab14-4676-98c2-3ed4b05c7361",
   "metadata": {},
   "outputs": [
    {
     "data": {
      "text/plain": [
       "'\\nQ29.  What is inheritance in OOP?\\n\\nSOL.\\nInheritance in Object-Oriented Programming (OOP) is a mechanism that allows a class to inherit properties and methods from another class.\\nThis concept facilitates code reuse and the creation of a hierarchical class structure.\\n'"
      ]
     },
     "execution_count": 27,
     "metadata": {},
     "output_type": "execute_result"
    }
   ],
   "source": [
    "\"\"\"\n",
    "Q29.  What is inheritance in OOP?\n",
    "\n",
    "SOL.\n",
    "Inheritance in Object-Oriented Programming (OOP) is a mechanism that allows a class to inherit properties and methods from another class.\n",
    "This concept facilitates code reuse and the creation of a hierarchical class structure.\n",
    "\"\"\""
   ]
  },
  {
   "cell_type": "code",
   "execution_count": 28,
   "id": "80bb544b-27b1-4e82-a6e3-7a62f357ae1e",
   "metadata": {},
   "outputs": [
    {
     "data": {
      "text/plain": [
       "'\\nQ30. Define polymorphism in OOP.\\n\\nSOL.\\nPolymorphism is a concept in Object-Oriented Programming (OOP) that refers to the ability of different classes to be treated as instances of the same class through a common interface. \\nIt allows methods to do different things based on the object it is acting upon, even though they share the same name. This key principle supports flexibility and code reusability.\\n'"
      ]
     },
     "execution_count": 28,
     "metadata": {},
     "output_type": "execute_result"
    }
   ],
   "source": [
    "\"\"\"\n",
    "Q30. Define polymorphism in OOP.\n",
    "\n",
    "SOL.\n",
    "Polymorphism is a concept in Object-Oriented Programming (OOP) that refers to the ability of different classes to be treated as instances of \n",
    "the same class through a common interface. It allows methods to do different things based on the object it is acting upon, even though they \n",
    "share the same name. This key principle supports flexibility and code reusability.\n",
    "\"\"\""
   ]
  },
  {
   "cell_type": "code",
   "execution_count": 29,
   "id": "ddd84cbd-2d2f-456d-a64f-4edd10e4a827",
   "metadata": {},
   "outputs": [
    {
     "data": {
      "text/plain": [
       "'\\nQ31.  Explain method overriding in Python.\\n\\nSOL.\\nMethod overriding in Python allows a subclass to provide a specific implementation of a method that is already defined in its superclass.\\nThis is a key feature of inheritance in OOP that supports polymorphism, enabling a subclass to modify or extend the behavior of methods inherited from the parent class.\\n'"
      ]
     },
     "execution_count": 29,
     "metadata": {},
     "output_type": "execute_result"
    }
   ],
   "source": [
    "\"\"\"\n",
    "Q31.  Explain method overriding in Python.\n",
    "\n",
    "SOL.\n",
    "Method overriding in Python allows a subclass to provide a specific implementation of a method that is already defined in its superclass.\n",
    "This is a key feature of inheritance in OOP that supports polymorphism, enabling a subclass to modify or extend the behavior of methods inherited from the parent class.\n",
    "\"\"\""
   ]
  },
  {
   "cell_type": "code",
   "execution_count": 32,
   "id": "d0843d9c-fc2e-441c-8631-14bc7fcfd8ad",
   "metadata": {},
   "outputs": [
    {
     "name": "stdout",
     "output_type": "stream",
     "text": [
      "Woof!\n"
     ]
    }
   ],
   "source": [
    "\"\"\"\n",
    "Q32.  Define a parent class Animal with a method make_sound that prints \"Generic animal sound\". Create a \n",
    "child class Dog inheriting from Animal with a method make_sound that prints \"Woof!\"\n",
    "\"\"\"\n",
    "\n",
    "class Animal:\n",
    "    def speak(self):\n",
    "        return \"Some sound\"\n",
    "\n",
    "class Dog(Animal):\n",
    "    def speak(self):\n",
    "        return \"Woof!\"\n",
    "    \n",
    "animals = [Dog()]\n",
    "\n",
    "for animal in animals:\n",
    "    print(animal.speak())"
   ]
  },
  {
   "cell_type": "code",
   "execution_count": 35,
   "id": "ea63fb37-7e4a-48f5-883c-042735ca3fdc",
   "metadata": {},
   "outputs": [
    {
     "name": "stdout",
     "output_type": "stream",
     "text": [
      "Dog runs\n"
     ]
    }
   ],
   "source": [
    "\"\"\"\n",
    "Q33.  Define a method move in the Animal class that prints \"Animal moves\". Override the move method in the \n",
    "Dog class to print \"Dog runs\".\n",
    "\"\"\"\n",
    "\n",
    "class ANimal:\n",
    "    def method(self):\n",
    "        print(\"Animal moves\")\n",
    "        \n",
    "class DOg:\n",
    "    def method(self):\n",
    "        print(\"Dog runs\")\n",
    "        \n",
    "tommy = DOg()\n",
    "\n",
    "tommy.method()"
   ]
  },
  {
   "cell_type": "code",
   "execution_count": 5,
   "id": "7cd91ac7-2f9a-4892-900e-017daccd96b2",
   "metadata": {},
   "outputs": [
    {
     "name": "stdout",
     "output_type": "stream",
     "text": [
      "Giving birth to live young.\n",
      "Giving birth to younger one.\n"
     ]
    }
   ],
   "source": [
    "\"\"\"\n",
    "Q34. Create a class Mammal with a method reproduce that prints \"Giving birth to live young.\" Create a class \n",
    "DogMammal inheriting from both Dog and Mammal.\n",
    "\"\"\"\n",
    "class Mammal:\n",
    "    def reproduce(self):\n",
    "        print(\"Giving birth to live young.\")\n",
    "        \n",
    "class DogMammal(Mammal):\n",
    "    def Dogreproduce(self):\n",
    "        print(\"Giving birth to younger one.\")\n",
    "        \n",
    "tony = DogMammal()\n",
    "tony.reproduce()\n",
    "tony.Dogreproduce()"
   ]
  },
  {
   "cell_type": "code",
   "execution_count": 8,
   "id": "e2134cfc-0d72-4b79-a69a-f8b4dcca3326",
   "metadata": {},
   "outputs": [
    {
     "data": {
      "text/plain": [
       "'Bark!'"
      ]
     },
     "execution_count": 8,
     "metadata": {},
     "output_type": "execute_result"
    }
   ],
   "source": [
    "\"\"\"\n",
    "Q35. Create a class GermanShepherd inheriting from Dog and override the make_sound method to print \"Bark!\"\n",
    "\"\"\"\n",
    "class Dogs:\n",
    "    def make_sound(self):\n",
    "        return \"Woof!\"\n",
    "class GermanShephard(Dogs):\n",
    "    def make_sound(self):\n",
    "        return \"Bark!\"\n",
    "    \n",
    "sheru = GermanShephard()\n",
    "sheru.make_sound()"
   ]
  },
  {
   "cell_type": "code",
   "execution_count": 5,
   "id": "c20fcd42-dcc0-44c6-8358-620ad6effd6d",
   "metadata": {},
   "outputs": [
    {
     "data": {
      "text/plain": [
       "'1.22m'"
      ]
     },
     "execution_count": 5,
     "metadata": {},
     "output_type": "execute_result"
    }
   ],
   "source": [
    "\"\"\"\n",
    "Q36. Define constructors in both the Animal and Dog classes with different initialization parameters.\n",
    "\"\"\"\n",
    "class Animal:\n",
    "    def __init__(self,height):\n",
    "        self.height = height\n",
    "    def speak(self):\n",
    "        return \"Some sound\"\n",
    "\n",
    "class Dog(Animal):\n",
    "    def __init__(self,color):\n",
    "        self.color= color\n",
    "    def speak(self):\n",
    "        return \"Woof!\"\n",
    "    \n",
    "tommy= Dog(\"black\")\n",
    "tommy.color\n",
    "\n",
    "tiger = Animal(\"1.22m\")\n",
    "tiger.height"
   ]
  },
  {
   "cell_type": "code",
   "execution_count": 10,
   "id": "2825338b-3851-4cd6-974f-7d6dfd8565ca",
   "metadata": {},
   "outputs": [
    {
     "data": {
      "text/plain": [
       "'\\nQ37. What is abstraction in Python? How is it implemented?\\n\\nSOL.\\nAbstraction in Python is the concept of hiding the complex reality while exposing only the necessary parts.\\n  It’s a fundamental principle of object-oriented programming that helps in reducing programming complexity and effort.\\n\\nHere’s how abstraction is implemented in Python:\\n\\nAbstract Classes: These are classes that contain one or more abstract methods. An abstract method is a method that is declared, but contains no implementation.\\n                  Abstract classes cannot be instantiated, and require subclasses to provide implementations for the abstract methods.\\nAbstract Base Classes (ABCs): Python provides the abc module to define abstract base classes. You use the ABC class from the abc module as the base class and decorate abstract methods with @abstractmethod.\\n'"
      ]
     },
     "execution_count": 10,
     "metadata": {},
     "output_type": "execute_result"
    }
   ],
   "source": [
    "\"\"\"\n",
    "Q37. What is abstraction in Python? How is it implemented?\n",
    "\n",
    "SOL.\n",
    "Abstraction in Python is the concept of hiding the complex reality while exposing only the necessary parts.\n",
    "  It’s a fundamental principle of object-oriented programming that helps in reducing programming complexity and effort.\n",
    "\n",
    "Here’s how abstraction is implemented in Python:\n",
    "\n",
    "Abstract Classes: These are classes that contain one or more abstract methods. An abstract method is a method that is declared, but contains no implementation.\n",
    "                  Abstract classes cannot be instantiated, and require subclasses to provide implementations for the abstract methods.\n",
    "Abstract Base Classes (ABCs): Python provides the abc module to define abstract base classes. \n",
    "                  You use the ABC class from the abc module as the base class and decorate abstract methods with @abstractmethod.\n",
    "\"\"\""
   ]
  },
  {
   "cell_type": "code",
   "execution_count": 11,
   "id": "ce95d695-3c29-499b-b08a-d29ff1cf29fd",
   "metadata": {},
   "outputs": [
    {
     "data": {
      "text/plain": [
       "'\\nQ38. Explain the importance of abstraction in object-oriented programming.\\n\\nSOL.\\nAbstraction is a fundamental concept in object-oriented programming (OOP) that plays a crucial role in managing complexity. \\n\\nHere are some key points that highlight its importance:\\n\\nSimplification: Abstraction simplifies the design of complex systems by allowing programmers to focus on high-level operations without needing to understand the intricate details of their implementation.\\nModularity: It promotes modularity by separating the interface (what the code does) from the implementation (how the code does it). This separation allows for independent development and maintenance of each part.\\nReusability: By using abstract classes and interfaces, OOP allows developers to create components that can be reused across different parts of a program or even in different programs.\\nMaintainability: Changes to the internal workings of a class do not affect any code that uses the class, provided that the interface remains the same. This makes the code more maintainable and adaptable to change.\\nExtensibility: Abstraction allows for extending systems by creating new components that implement existing abstract classes or interfaces, thus providing flexibility to grow and evolve software systems.\\nEncapsulation: It supports encapsulation by hiding the internal state and requiring all interaction to occur through an object’s methods, protecting the integrity of the system.\\nDesign: Abstraction helps in the early stages of software design by allowing developers to define general concepts and relationships between objects, which can then be refined and concretized in subsequent stages.\\n'"
      ]
     },
     "execution_count": 11,
     "metadata": {},
     "output_type": "execute_result"
    }
   ],
   "source": [
    "\"\"\"\n",
    "Q38. Explain the importance of abstraction in object-oriented programming.\n",
    "\n",
    "SOL.\n",
    "Abstraction is a fundamental concept in object-oriented programming (OOP) that plays a crucial role in managing complexity. \n",
    "\n",
    "Here are some key points that highlight its importance:\n",
    "\n",
    "Simplification: Abstraction simplifies the design of complex systems by allowing programmers to focus on high-level operations \n",
    "                without needing to understand the intricate details of their implementation.\n",
    "Modularity: It promotes modularity by separating the interface (what the code does) from the implementation (how the code does it). \n",
    "            This separation allows for independent development and maintenance of each part.\n",
    "Reusability: By using abstract classes and interfaces, OOP allows developers to create components that can be reused \n",
    "             across different parts of a program or even in different programs.\n",
    "Maintainability: Changes to the internal workings of a class do not affect any code that uses the class, provided that the interface remains the same.\n",
    "              This makes the code more maintainable and adaptable to change.\n",
    "Extensibility: Abstraction allows for extending systems by creating new components that implement existing abstract classes or interfaces, \n",
    "              thus providing flexibility to grow and evolve software systems.\n",
    "Encapsulation: It supports encapsulation by hiding the internal state and requiring all interaction to occur through an object’s methods, \n",
    "              protecting the integrity of the system.\n",
    "Design: Abstraction helps in the early stages of software design by allowing developers to define general concepts and relationships between objects, \n",
    "              which can then be refined and concretized in subsequent stages.\n",
    "\"\"\""
   ]
  },
  {
   "cell_type": "code",
   "execution_count": 12,
   "id": "8b8cd9f6-b4c9-425f-aec6-f5a00afe1aa2",
   "metadata": {},
   "outputs": [
    {
     "data": {
      "text/plain": [
       "'\\nQ39.  How are abstract methods different from regular methods in Python?\\n\\nSOL. \\nAbstract Methods:\\nAbstract methods are defined using the @abstractmethod decorator.\\nThey are part of abstract classes (also known as interfaces).\\nAbstract methods have no implementation; they only provide a method signature (name and parameters).\\nSubclasses that inherit from an abstract class must override all its abstract methods.\\nAbstract classes cannot be instantiated directly; they serve as blueprints for other classes.\\n\\nRegular Methods:\\nRegular methods (also called concrete methods) have a complete implementation.\\nThey can be called directly on instances of a class.\\nRegular methods are not required to be overridden by subclasses.\\n'"
      ]
     },
     "execution_count": 12,
     "metadata": {},
     "output_type": "execute_result"
    }
   ],
   "source": [
    "\"\"\"\n",
    "Q39.  How are abstract methods different from regular methods in Python?\n",
    "\n",
    "SOL. \n",
    "Abstract Methods:\n",
    "Abstract methods are defined using the @abstractmethod decorator.\n",
    "They are part of abstract classes (also known as interfaces).\n",
    "Abstract methods have no implementation; they only provide a method signature (name and parameters).\n",
    "Subclasses that inherit from an abstract class must override all its abstract methods.\n",
    "Abstract classes cannot be instantiated directly; they serve as blueprints for other classes.\n",
    "\n",
    "Regular Methods:\n",
    "Regular methods (also called concrete methods) have a complete implementation.\n",
    "They can be called directly on instances of a class.\n",
    "Regular methods are not required to be overridden by subclasses.\n",
    "\"\"\""
   ]
  },
  {
   "cell_type": "code",
   "execution_count": 6,
   "id": "b5b4b466-eb6b-4a57-a3bf-b0241db6831d",
   "metadata": {},
   "outputs": [
    {
     "data": {
      "text/plain": [
       "'\\nQ40. How can you achieve abstraction using interfaces in Python?\\n\\nSOL.\\nInterfaces in Python:\\nAn interface defines a contract between a class and its users. It specifies a set of methods that a class must implement to be considered compatible with the interface.\\nUnlike languages with explicit interface keywords, Python interfaces are implemented using abstract base classes.\\nAn interface doesn’t specify the implementation details; it only defines the method signatures (inputs and outputs).\\n\\nAbstract Base Classes (ABCs):\\nABCs are classes that cannot be instantiated directly. They serve as a blueprint for other classes.\\nThe abc module provides tools for creating ABCs in Python.\\nTo define an ABC, you can inherit from ABC (or ABCMeta) and use the @abstractmethod decorator to declare abstract methods.\\n\\nCreating an Interface Using ABCs:\\nSuppose we want to create an interface called Shape with a single method, area().\\nWe’ll define an abstract class that inherits from ABC and declare the area() method as an abstract method using @abstractmethod.\\n'"
      ]
     },
     "execution_count": 6,
     "metadata": {},
     "output_type": "execute_result"
    }
   ],
   "source": [
    "\"\"\"\n",
    "Q40. How can you achieve abstraction using interfaces in Python?\n",
    "\n",
    "SOL.\n",
    "Interfaces in Python:\n",
    "An interface defines a contract between a class and its users. It specifies a set of methods that a class must implement to be considered compatible with the interface.\n",
    "Unlike languages with explicit interface keywords, Python interfaces are implemented using abstract base classes.\n",
    "An interface doesn’t specify the implementation details; it only defines the method signatures (inputs and outputs).\n",
    "\n",
    "Abstract Base Classes (ABCs):\n",
    "ABCs are classes that cannot be instantiated directly. They serve as a blueprint for other classes.\n",
    "The abc module provides tools for creating ABCs in Python.\n",
    "To define an ABC, you can inherit from ABC (or ABCMeta) and use the @abstractmethod decorator to declare abstract methods.\n",
    "\n",
    "Creating an Interface Using ABCs:\n",
    "Suppose we want to create an interface called Shape with a single method, area().\n",
    "We’ll define an abstract class that inherits from ABC and declare the area() method as an abstract method using @abstractmethod.\n",
    "\"\"\""
   ]
  },
  {
   "cell_type": "code",
   "execution_count": 7,
   "id": "2f155a88-3954-47d8-99d4-e0274b935b05",
   "metadata": {},
   "outputs": [
    {
     "name": "stdout",
     "output_type": "stream",
     "text": [
      "Circle area: 78.5\n",
      "Rectangle area: 24\n",
      "Triangle area: 12.0\n"
     ]
    }
   ],
   "source": [
    "\"\"\"\n",
    "Q41.  Can you provide an example of how abstraction can be utilized to create a common interface for a group of related classes in Python?\n",
    "\"\"\"\n",
    "from abc import ABC, abstractmethod\n",
    "\n",
    "class Shape(ABC):\n",
    "    @abstractmethod\n",
    "    def area(self):\n",
    "        \"\"\"Abstract method: Calculate the area of the shape.\"\"\"\n",
    "        pass\n",
    "\n",
    "class Circle(Shape):\n",
    "    def __init__(self, radius):\n",
    "        self.radius = radius\n",
    "\n",
    "    def area(self):\n",
    "        return 3.14 * self.radius ** 2\n",
    "\n",
    "class Rectangle(Shape):\n",
    "    def __init__(self, length, width):\n",
    "        self.length = length\n",
    "        self.width = width\n",
    "\n",
    "    def area(self):\n",
    "        return self.length * self.width\n",
    "\n",
    "class Triangle(Shape):\n",
    "    def __init__(self, base, height):\n",
    "        self.base = base\n",
    "        self.height = height\n",
    "\n",
    "    def area(self):\n",
    "        return 0.5 * self.base * self.height\n",
    "\n",
    "circle = Circle(radius=5)\n",
    "rectangle = Rectangle(length=4, width=6)\n",
    "triangle = Triangle(base=3, height=8)\n",
    "\n",
    "print(f\"Circle area: {circle.area()}\")\n",
    "print(f\"Rectangle area: {rectangle.area()}\")\n",
    "print(f\"Triangle area: {triangle.area()}\")"
   ]
  },
  {
   "cell_type": "code",
   "execution_count": 8,
   "id": "53ee7eeb-d3ce-4b42-b72b-53804f2a7843",
   "metadata": {},
   "outputs": [
    {
     "data": {
      "text/plain": [
       "'\\nQ42.  How does Python achieve polymorphism through method overriding?\\n\\nSOL.\\nPython achieves polymorphism through method overriding by allowing a subclass to provide a specific implementation of a method that is already defined in its superclass. \\nThis process is known as method overriding. When a method is called on an object, Python looks for the method in the object’s class and if it’s not found, \\nit continues to look up the method in the object’s parent classes until it finds one.\\n'"
      ]
     },
     "execution_count": 8,
     "metadata": {},
     "output_type": "execute_result"
    }
   ],
   "source": [
    "\"\"\"\n",
    "Q42.  How does Python achieve polymorphism through method overriding?\n",
    "\n",
    "SOL.\n",
    "Python achieves polymorphism through method overriding by allowing a subclass to provide a specific implementation of a method that is already defined in its superclass. \n",
    "This process is known as method overriding. When a method is called on an object, Python looks for the method in the object’s class and if it’s not found, \n",
    "it continues to look up the method in the object’s parent classes until it finds one.\n",
    "\"\"\""
   ]
  },
  {
   "cell_type": "code",
   "execution_count": 9,
   "id": "b58dfd4b-c2b4-49f0-8db7-fb2f39d44de6",
   "metadata": {},
   "outputs": [
    {
     "name": "stdout",
     "output_type": "stream",
     "text": [
      "This is a vehicle\n",
      "This is a car\n"
     ]
    }
   ],
   "source": [
    "\"\"\"\n",
    "Q43.  Define a base class with a method and a subclass that overrides the method?\n",
    "\"\"\"\n",
    "class Vehicle:\n",
    "    def description(self):\n",
    "        return \"This is a vehicle\"\n",
    "\n",
    "class Car(Vehicle):\n",
    "    def description(self):\n",
    "        return \"This is a car\"\n",
    "\n",
    "vehicle = Vehicle()\n",
    "car = Car()\n",
    "\n",
    "print(vehicle.description())  \n",
    "print(car.description())      "
   ]
  },
  {
   "cell_type": "code",
   "execution_count": 10,
   "id": "e62b07b2-e097-41cc-977e-332ba6ec1ce7",
   "metadata": {},
   "outputs": [],
   "source": [
    "\"\"\"\n",
    "Q44. Define a base class and multiple subclasses with overridden methods?\n",
    "\"\"\"\n",
    "\n",
    "class Shape:\n",
    "    def draw(self):\n",
    "        return \"Drawing a generic shape\"\n",
    "\n",
    "class Circle(Shape):\n",
    "    def draw(self):\n",
    "        return \"Drawing a circle\"\n",
    "\n",
    "class Rectangle(Shape):\n",
    "    def draw(self):\n",
    "        return \"Drawing a rectangle\"\n",
    "\n",
    "class Triangle(Shape):\n",
    "    def draw(self):\n",
    "        return \"Drawing a triangle\""
   ]
  },
  {
   "cell_type": "code",
   "execution_count": 1,
   "id": "8c84196b-0b3d-47d9-980a-952459154941",
   "metadata": {},
   "outputs": [
    {
     "data": {
      "text/plain": [
       "'\\nQ45.  How does polymorphism improve code readability and reusability?\\n\\nSOL.\\nPolymorphism significantly enhances code readability and reusability in several ways:\\n\\nCode Reusability:\\nPolymorphism allows you to write code that can work with objects of different types and classes interchangeably. This means you \\ncan write a function or a method once and use it for objects of various classes that share the same interface or superclass.\\nCode Readability:\\nWhen you use polymorphism, the code tends to be more straightforward and cleaner because it avoids long conditional \\nstatements that check the object’s type before performing a specific action.\\n'"
      ]
     },
     "execution_count": 1,
     "metadata": {},
     "output_type": "execute_result"
    }
   ],
   "source": [
    "\"\"\"\n",
    "Q45.  How does polymorphism improve code readability and reusability?\n",
    "\n",
    "SOL.\n",
    "Polymorphism significantly enhances code readability and reusability in several ways:\n",
    "\n",
    "Code Reusability:\n",
    "Polymorphism allows you to write code that can work with objects of different types and classes interchangeably. This means you \n",
    "can write a function or a method once and use it for objects of various classes that share the same interface or superclass.\n",
    "Code Readability:\n",
    "When you use polymorphism, the code tends to be more straightforward and cleaner because it avoids long conditional \n",
    "statements that check the object’s type before performing a specific action.\n",
    "\"\"\""
   ]
  },
  {
   "cell_type": "code",
   "execution_count": 4,
   "id": "02d578fe-f15d-4c37-ac19-2c84fa24a0bb",
   "metadata": {},
   "outputs": [
    {
     "name": "stdout",
     "output_type": "stream",
     "text": [
      "Quack, quack!\n",
      "I'm quacking like a duck!\n"
     ]
    }
   ],
   "source": [
    "\"\"\"\n",
    "Q46. Describe how Python supports polymorphism with duck typing.\n",
    "\n",
    "SOL.\n",
    "Python supports polymorphism through a concept known as duck typing. The term comes from the phrase “If it looks like a duck and quacks like a duck, it’s a duck.”\n",
    "In Python, this means that the suitability of an object for a particular context is determined by the presence of certain methods and properties, rather than the actual type of the object.\n",
    "Duck typing allows for more flexible and decoupled code, as you don’t need to inherit from a specific class to be compatible with an interface.\n",
    "\"\"\"\n",
    "class Duck:\n",
    "    def quack(self):\n",
    "        print(\"Quack, quack!\")\n",
    "\n",
    "class Person:\n",
    "    def quack(self):\n",
    "        print(\"I'm quacking like a duck!\")\n",
    "\n",
    "def make_it_quack(duck_like):\n",
    "    duck_like.quack()\n",
    "\n",
    "duck = Duck()\n",
    "person = Person()\n",
    "make_it_quack(duck)\n",
    "make_it_quack(person)"
   ]
  },
  {
   "cell_type": "code",
   "execution_count": 5,
   "id": "f40780c3-0933-4637-ad5d-9d8edfa0371e",
   "metadata": {},
   "outputs": [
    {
     "data": {
      "text/plain": [
       "'\\nQ47.  How do you achieve encapsulation in Python?\\n\\nSOL.\\nEncapsulation in Python is achieved by bundling data and the methods that operate on that data within a single unit, typically a class.\\nThis concept is one of the fundamental principles of object-oriented programming and serves to restrict access to an object’s internal state and \\nprotect it from being modified by external code.\\n'"
      ]
     },
     "execution_count": 5,
     "metadata": {},
     "output_type": "execute_result"
    }
   ],
   "source": [
    "\"\"\"\n",
    "Q47.  How do you achieve encapsulation in Python?\n",
    "\n",
    "SOL.\n",
    "Encapsulation in Python is achieved by bundling data and the methods that operate on that data within a single unit, typically a class.\n",
    "This concept is one of the fundamental principles of object-oriented programming and serves to restrict access to an object’s internal state and \n",
    "protect it from being modified by external code.\n",
    "\"\"\""
   ]
  },
  {
   "cell_type": "code",
   "execution_count": 6,
   "id": "b2216581-5b5b-4216-9ec6-b1455d9b9543",
   "metadata": {},
   "outputs": [
    {
     "data": {
      "text/plain": [
       "'\\nQ48. Can encapsulation be bypassed in Python? If so, how.\\n\\nSOL.\\nYes, encapsulation can be bypassed in Python. While Python provides mechanisms to indicate that a variable or method should not be accessed directly, such as naming conventions with underscores, these are not enforced by the language itself. \\n\\nHere’s how encapsulation can be bypassed:\\nAccessing Protected Members: By convention, a single underscore (_) before a member name indicates it is protected and should not be accessed directly. However, this is not strictly enforced, and such members can still be accessed from outside the class.\\nAccessing Private Members: Double underscores (__) before a member name are used to make it private in Python. However, Python performs name mangling on these names. The private members can still be accessed externally by using the mangled name.\\n'"
      ]
     },
     "execution_count": 6,
     "metadata": {},
     "output_type": "execute_result"
    }
   ],
   "source": [
    "\"\"\"\n",
    "Q48. Can encapsulation be bypassed in Python? If so, how.\n",
    "\n",
    "SOL.\n",
    "Yes, encapsulation can be bypassed in Python. While Python provides mechanisms to indicate that a variable or method should not be accessed directly, such as naming conventions with underscores, these are not enforced by the language itself. \n",
    "\n",
    "Here’s how encapsulation can be bypassed:\n",
    "Accessing Protected Members: By convention, a single underscore (_) before a member name indicates it is protected and should not be accessed directly. However, this is not strictly enforced, and such members can still be accessed from outside the class.\n",
    "Accessing Private Members: Double underscores (__) before a member name are used to make it private in Python. However, Python performs name mangling on these names. The private members can still be accessed externally by using the mangled name.\n",
    "\"\"\""
   ]
  },
  {
   "cell_type": "code",
   "execution_count": 15,
   "id": "3b3a14b0-efde-4998-b6c2-b56244a6966b",
   "metadata": {},
   "outputs": [
    {
     "name": "stdout",
     "output_type": "stream",
     "text": [
      "The available balance in your account is 3000\n"
     ]
    }
   ],
   "source": [
    "\"\"\"\n",
    "Q49.  Implement a class BankAccount with a private balance attribute. Include methods to deposit, withdraw, and check the balance.\n",
    "\"\"\"\n",
    "class BankAccount:\n",
    "    def __init__(self,amt):\n",
    "        self.amt = amt\n",
    "    def deposit(self,amount):\n",
    "        self.amt += amount\n",
    "        return \"The available baance is\", self.amt\n",
    "    def withraw(self,amount):\n",
    "        if amount >= self.amt:\n",
    "            return \"The available balance is low\"\n",
    "        else:\n",
    "            self.amt -= amount\n",
    "            return \"The remaining balance is\", self.amt\n",
    "    def balance(self):\n",
    "        print(\"The available balance in your account is\", self.amt)\n",
    "        \n",
    "banker = BankAccount(10000)\n",
    "banker.deposit(5000)\n",
    "banker.withraw(12000)\n",
    "banker.balance()"
   ]
  },
  {
   "cell_type": "code",
   "execution_count": 16,
   "id": "6179180c-11b1-4bef-b5ab-378f51b944ff",
   "metadata": {},
   "outputs": [
    {
     "name": "stdout",
     "output_type": "stream",
     "text": [
      "Name: Alice\n",
      "Email: alice@example.com\n"
     ]
    }
   ],
   "source": [
    "\"\"\"\n",
    "Q50.  Develop a Person class with private attributes name and email, and methods to set and get the email.\n",
    "\"\"\"\n",
    "class Person:\n",
    "    def __init__(self, name, email):\n",
    "        self.__name = name\n",
    "        self.__email = email\n",
    "\n",
    "    def set_email(self, new_email):\n",
    "        \"\"\"Set the email address.\"\"\"\n",
    "        self.__email = new_email\n",
    "\n",
    "    def get_email(self):\n",
    "        \"\"\"Get the email address.\"\"\"\n",
    "        return self.__email\n",
    "    \n",
    "person = Person(\"Alice\", \"alice@example.com\")\n",
    "print(f\"Name: {person._Person__name}\")\n",
    "print(f\"Email: {person.get_email()}\")"
   ]
  },
  {
   "cell_type": "code",
   "execution_count": 18,
   "id": "002e3f8d-102d-4d46-a2b5-0419162240fd",
   "metadata": {},
   "outputs": [
    {
     "data": {
      "text/plain": [
       "'\\nQ51. Why is encapsulation considered a pillar of object-oriented programming (OOP).\\n\\nSOL. \\nEncapsulation is considered a fundamental pillar of object-oriented programming (OOP) because it is essential for several reasons:\\n\\nData Hiding: Encapsulation allows the internal state of an object to be hidden from the outside. This means that the object’s data can only be accessed in a \\n              controlled way, which prevents unauthorized or harmful manipulation.\\nReduced Complexity: By encapsulating the complexity of the internal workings of an object, developers can work with objects in a simpler way. \\n                    They only need to know what the object does, not how it does it, which simplifies the development process.\\nIncreased Modularity: Encapsulation enhances modularity by allowing objects to be self-contained. Each object can be developed independently of others,\\n                    making the code more maintainable and scalable.\\nControlled Access: Through encapsulation, developers can control how the data within an object can be accessed and modified. This can be done using methods \\n                    like getters and setters, which can also include validation logic to ensure data integrity.\\nCode Reusability: Encapsulated objects can be reused in different parts of a program or even in different programs. \\n                  Since the implementation details are hidden, the same object can be used in various contexts without concern for its internal complexities.\\nMaintenance and Evolution: Encapsulated code is easier to maintain and evolve. Changes to the internal implementation of an object do not affect the code that\\n                  uses the object, as long as the interface remains consistent.\\n'"
      ]
     },
     "execution_count": 18,
     "metadata": {},
     "output_type": "execute_result"
    }
   ],
   "source": [
    "\"\"\"\n",
    "Q51. Why is encapsulation considered a pillar of object-oriented programming (OOP).\n",
    "\n",
    "SOL. \n",
    "Encapsulation is considered a fundamental pillar of object-oriented programming (OOP) because it is essential for several reasons:\n",
    "\n",
    "Data Hiding: Encapsulation allows the internal state of an object to be hidden from the outside. This means that the object’s data can only be accessed in a \n",
    "              controlled way, which prevents unauthorized or harmful manipulation.\n",
    "Reduced Complexity: By encapsulating the complexity of the internal workings of an object, developers can work with objects in a simpler way. \n",
    "                    They only need to know what the object does, not how it does it, which simplifies the development process.\n",
    "Increased Modularity: Encapsulation enhances modularity by allowing objects to be self-contained. Each object can be developed independently of others,\n",
    "                    making the code more maintainable and scalable.\n",
    "Controlled Access: Through encapsulation, developers can control how the data within an object can be accessed and modified. This can be done using methods \n",
    "                    like getters and setters, which can also include validation logic to ensure data integrity.\n",
    "Code Reusability: Encapsulated objects can be reused in different parts of a program or even in different programs. \n",
    "                  Since the implementation details are hidden, the same object can be used in various contexts without concern for its internal complexities.\n",
    "Maintenance and Evolution: Encapsulated code is easier to maintain and evolve. Changes to the internal implementation of an object do not affect the code that\n",
    "                  uses the object, as long as the interface remains consistent.\n",
    "\"\"\""
   ]
  },
  {
   "cell_type": "code",
   "execution_count": 19,
   "id": "022dd4f0-0544-47c6-b2a9-daf72ee8377b",
   "metadata": {},
   "outputs": [
    {
     "name": "stdout",
     "output_type": "stream",
     "text": [
      "Function is about to run...\n",
      "Hello!\n",
      "Function has finished running.\n"
     ]
    }
   ],
   "source": [
    "\"\"\"\n",
    "Q52. Create a decorator in Python that adds functionality to a simple function by printing a message before and after the function execution.\n",
    "\"\"\"\n",
    "def my_decorator(func):\n",
    "    def wrapper(*args, **kwargs):\n",
    "        print(\"Function is about to run...\")\n",
    "        result = func(*args, **kwargs)\n",
    "        print(\"Function has finished running.\")\n",
    "        return result\n",
    "    return wrapper\n",
    "\n",
    "@my_decorator\n",
    "def say_hello():\n",
    "    print(\"Hello!\")\n",
    "\n",
    "# Example usage\n",
    "say_hello()"
   ]
  },
  {
   "cell_type": "code",
   "execution_count": 20,
   "id": "8dc6b406-b6ea-47ca-905f-6bfc28e86a7c",
   "metadata": {},
   "outputs": [
    {
     "name": "stdout",
     "output_type": "stream",
     "text": [
      "Attention: say_hello1 is about to run...\n",
      "Hello!\n",
      "Notice: say_hello1 has finished running.\n"
     ]
    }
   ],
   "source": [
    "\"\"\"\n",
    "Q53.  Modify the decorator to accept arguments and print the function name along with the message.\n",
    "\"\"\"\n",
    "def my_decorator_with_args(message_before, message_after):\n",
    "    def decorator(func):\n",
    "        def wrapper1(*args, **kwargs):\n",
    "            print(f\"{message_before} {func.__name__} is about to run...\")\n",
    "            result = func(*args, **kwargs)\n",
    "            print(f\"{message_after} {func.__name__} has finished running.\")\n",
    "            return result\n",
    "        return wrapper1\n",
    "    return decorator\n",
    "\n",
    "@my_decorator_with_args(\"Attention:\", \"Notice:\")\n",
    "def say_hello1():\n",
    "    print(\"Hello!\")\n",
    "\n",
    "# Example usage\n",
    "say_hello1()"
   ]
  },
  {
   "cell_type": "code",
   "execution_count": 1,
   "id": "58421ae2-8f70-47e6-ac28-60f0ed13f4b8",
   "metadata": {},
   "outputs": [
    {
     "name": "stdout",
     "output_type": "stream",
     "text": [
      "Executing decorator one\n",
      "Executing decorator two\n",
      "Function is executed\n"
     ]
    }
   ],
   "source": [
    "\"\"\"\n",
    "Q54.  Create two decorators, and apply them to a single function. Ensure that they execute in the order they are applied.\n",
    "\"\"\"\n",
    "def decorator_one(func):\n",
    "    def wrapper(*args, **kwargs):\n",
    "        print(\"Executing decorator one\")\n",
    "        return func(*args, **kwargs)\n",
    "    return wrapper\n",
    "\n",
    "# Define the second decorator\n",
    "def decorator_two(func):\n",
    "    def wrapper(*args, **kwargs):\n",
    "        print(\"Executing decorator two\")\n",
    "        return func(*args, **kwargs)\n",
    "    return wrapper\n",
    "\n",
    "# Apply the decorators to a single function\n",
    "@decorator_one\n",
    "@decorator_two\n",
    "def my_function():\n",
    "    print(\"Function is executed\")\n",
    "\n",
    "# Call the function\n",
    "my_function()"
   ]
  },
  {
   "cell_type": "code",
   "execution_count": 2,
   "id": "31b02ae0-1f83-4f96-a030-3beb22bc8b63",
   "metadata": {},
   "outputs": [
    {
     "name": "stdout",
     "output_type": "stream",
     "text": [
      "Executing decorator one\n",
      "Executing decorator two\n",
      "Hello, World!\n"
     ]
    }
   ],
   "source": [
    "\"\"\"\n",
    "Q55. Modify the decorator to accept and pass function arguments to the wrapped function.\n",
    "\"\"\"\n",
    "def decorator_one(func):\n",
    "    def wrapper(*args, **kwargs):\n",
    "        print(\"Executing decorator one\")\n",
    "        return func(*args, **kwargs)\n",
    "    return wrapper\n",
    "\n",
    "# Define the second decorator\n",
    "def decorator_two(func):\n",
    "    def wrapper(*args, **kwargs):\n",
    "        print(\"Executing decorator two\")\n",
    "        return func(*args, **kwargs)\n",
    "    return wrapper\n",
    "\n",
    "# Apply the decorators to a single function\n",
    "@decorator_one\n",
    "@decorator_two\n",
    "def my_function(greeting, name):\n",
    "    print(f\"{greeting}, {name}!\")\n",
    "\n",
    "# Call the function with arguments\n",
    "my_function(\"Hello\", \"World\")"
   ]
  },
  {
   "cell_type": "code",
   "execution_count": 3,
   "id": "8f1b461b-834c-43a8-949e-f1aa23a72540",
   "metadata": {},
   "outputs": [
    {
     "name": "stdout",
     "output_type": "stream",
     "text": [
      "Function is executed\n",
      "Function name: my_function\n",
      "Function docstring: This is my function's docstring.\n"
     ]
    }
   ],
   "source": [
    "\"\"\"\n",
    "Q56. Create a decorator that preserves the metadata of the original function.\n",
    "\"\"\"\n",
    "import functools\n",
    "\n",
    "# Define a decorator that preserves the metadata of the original function\n",
    "def preserve_metadata(func):\n",
    "    @functools.wraps(func)\n",
    "    def wrapper(*args, **kwargs):\n",
    "        return func(*args, **kwargs)\n",
    "    return wrapper\n",
    "\n",
    "# Example usage of the decorator\n",
    "@preserve_metadata\n",
    "def my_function():\n",
    "    \"\"\"This is my function's docstring.\"\"\"\n",
    "    print(\"Function is executed\")\n",
    "\n",
    "# Call the function\n",
    "my_function()\n",
    "\n",
    "# Print the function's metadata\n",
    "print(f\"Function name: {my_function.__name__}\")\n",
    "print(f\"Function docstring: {my_function.__doc__}\")"
   ]
  },
  {
   "cell_type": "code",
   "execution_count": 4,
   "id": "968b6c3b-462a-41ac-9da2-d7270dfd25fa",
   "metadata": {},
   "outputs": [
    {
     "name": "stdout",
     "output_type": "stream",
     "text": [
      "The sum of 5 and 3 is 8.\n"
     ]
    }
   ],
   "source": [
    "\"\"\"\n",
    "Q57. Create a Python class `Calculator` with a static method `add` that takes in two numbers and returns their sum.\n",
    "\"\"\"\n",
    "class Calculator:\n",
    "    @staticmethod\n",
    "    def add(number1, number2):\n",
    "        \"\"\"Static method to add two numbers.\"\"\"\n",
    "        return number1 + number2\n",
    "\n",
    "# Example usage\n",
    "result = Calculator.add(5, 3)\n",
    "print(f\"The sum of 5 and 3 is {result}.\")"
   ]
  },
  {
   "cell_type": "code",
   "execution_count": 7,
   "id": "80a91fca-f976-479d-9a01-e118f372cc0c",
   "metadata": {},
   "outputs": [
    {
     "name": "stdout",
     "output_type": "stream",
     "text": [
      "Total number of employees created: 3\n"
     ]
    }
   ],
   "source": [
    "\"\"\"\n",
    "Q58. Create a Python class `Employee` with a class `method get_employee_count` that returns the total number of employees created.\n",
    "\"\"\"\n",
    "class Employee:\n",
    "    # Class variable to keep track of employee count\n",
    "    _employee_count = 0\n",
    "\n",
    "    def __init__(self, name):\n",
    "        self.name = name\n",
    "        # Increment the employee count when a new employee is created\n",
    "        Employee._employee_count += 1\n",
    "\n",
    "    @classmethod\n",
    "    def get_employee_count(cls):\n",
    "        \"\"\"Class method to return the total number of employees created.\"\"\"\n",
    "        return cls._employee_count\n",
    "\n",
    "# Example usage\n",
    "emp1 = Employee(\"Alice\")\n",
    "emp2 = Employee(\"Bob\")\n",
    "emp3 = Employee(\"Charlie\")\n",
    "\n",
    "# Get the total number of employees created\n",
    "total_employees = Employee.get_employee_count()\n",
    "print(f\"Total number of employees created: {total_employees}\")"
   ]
  },
  {
   "cell_type": "code",
   "execution_count": 8,
   "id": "3f93978d-153c-474f-baaa-15b2a8cdfab1",
   "metadata": {},
   "outputs": [
    {
     "name": "stdout",
     "output_type": "stream",
     "text": [
      "Original string: Hello, World!\n",
      "Reversed string: !dlroW ,olleH\n"
     ]
    }
   ],
   "source": [
    "\"\"\"\n",
    "Q59.  Create a Python class `StringFormatter` with a static method `reverse_string` that takes a string as input and returns its reverse.\n",
    "\"\"\"\n",
    "class StringFormatter:\n",
    "    @staticmethod\n",
    "    def reverse_string(input_string):\n",
    "        \"\"\"Static method to reverse a given string.\"\"\"\n",
    "        return input_string[::-1]\n",
    "\n",
    "# Example usage\n",
    "original_string = \"Hello, World!\"\n",
    "reversed_string = StringFormatter.reverse_string(original_string)\n",
    "print(f\"Original string: {original_string}\")\n",
    "print(f\"Reversed string: {reversed_string}\")"
   ]
  },
  {
   "cell_type": "code",
   "execution_count": 9,
   "id": "3a59dc33-825c-4a08-8a39-f507c8641d09",
   "metadata": {},
   "outputs": [
    {
     "name": "stdout",
     "output_type": "stream",
     "text": [
      "The area of a circle with radius 5 is 78.53975.\n"
     ]
    }
   ],
   "source": [
    "\"\"\"\n",
    "Q60.  Create a Python class `Circle` with a class method `calculate_area` that calculates the area of a circle given its radius.\n",
    "\"\"\"\n",
    "class Circle:\n",
    "    # Class variable for pi\n",
    "    pi = 3.14159\n",
    "\n",
    "    @classmethod\n",
    "    def calculate_area(cls, radius):\n",
    "        \"\"\"Class method to calculate the area of a circle given its radius.\"\"\"\n",
    "        return cls.pi * (radius ** 2)\n",
    "\n",
    "# Example usage\n",
    "radius = 5\n",
    "area = Circle.calculate_area(radius)\n",
    "print(f\"The area of a circle with radius {radius} is {area}.\")"
   ]
  },
  {
   "cell_type": "code",
   "execution_count": 10,
   "id": "3f39e090-0cbf-4474-8207-681460b9e877",
   "metadata": {},
   "outputs": [
    {
     "name": "stdout",
     "output_type": "stream",
     "text": [
      "25°C is equal to 77.0°F.\n"
     ]
    }
   ],
   "source": [
    "\"\"\"\n",
    "Q61.  Create a Python class `TemperatureConverter` with a static method `celsius_to_fahrenheit` that converts Celsius to Fahrenheit.\n",
    "\"\"\"\n",
    "class TemperatureConverter:\n",
    "    @staticmethod\n",
    "    def celsius_to_fahrenheit(celsius):\n",
    "        \"\"\"Static method to convert Celsius to Fahrenheit.\"\"\"\n",
    "        return (celsius * 9/5) + 32\n",
    "\n",
    "# Example usage\n",
    "celsius_temperature = 25\n",
    "fahrenheit_temperature = TemperatureConverter.celsius_to_fahrenheit(celsius_temperature)\n",
    "print(f\"{celsius_temperature}°C is equal to {fahrenheit_temperature}°F.\")"
   ]
  },
  {
   "cell_type": "code",
   "execution_count": 11,
   "id": "f0739f8f-4639-461e-b04f-2cc99d95e939",
   "metadata": {},
   "outputs": [
    {
     "name": "stdout",
     "output_type": "stream",
     "text": [
      "Person(John, Doe, 25)\n"
     ]
    }
   ],
   "source": [
    "\"\"\"\n",
    "Q62.  What is the purpose of the __str__() method in Python classes? Provide an example.\n",
    "\n",
    "SOL.The __str__() method in Python classes is used to define a human-readable string representation of an object. When you print an object or use the str() function on it, \n",
    "Python internally calls the __str__() method of that object’s class. It’s particularly useful for debugging and logging purposes, as it can provide a more descriptive output \n",
    "than the default one, which is often just the memory address of the object.\n",
    "\"\"\"\n",
    "class Person:\n",
    "    def __init__(self, first_name, last_name, age):\n",
    "        self.first_name = first_name\n",
    "        self.last_name = last_name\n",
    "        self.age = age\n",
    "\n",
    "    def __str__(self):\n",
    "        return f\"Person({self.first_name}, {self.last_name}, {self.age})\"\n",
    "\n",
    "# Creating an instance of Person\n",
    "person = Person('John', 'Doe', 25)\n",
    "\n",
    "# Using the __str__() method implicitly\n",
    "print(person)  #"
   ]
  },
  {
   "cell_type": "code",
   "execution_count": 4,
   "id": "9d2c7759-2853-4e48-a0b6-f0243fce62f6",
   "metadata": {},
   "outputs": [
    {
     "name": "stdout",
     "output_type": "stream",
     "text": [
      "Length of my_list: 5\n"
     ]
    }
   ],
   "source": [
    "\"\"\"\n",
    "O63.  How does the __len__() method work in Python? Provide an example.\n",
    "\n",
    "SOL.\n",
    "The __len__() method in Python is a special method that allows you to define the behavior of the len() function when it is called on an object of a custom class. \n",
    "It should return the length of the object, which typically corresponds to the number of elements in a container.\n",
    "\"\"\"\n",
    "class MyList:\n",
    "    def __init__(self, data):\n",
    "        self.data = data\n",
    "\n",
    "    def __len__(self):\n",
    "        return len(self.data)\n",
    "\n",
    "my_list = MyList([1, 2, 3, 4, 5])\n",
    "\n",
    "print(f\"Length of my_list: {len(my_list)}\")"
   ]
  },
  {
   "cell_type": "code",
   "execution_count": 6,
   "id": "9a95069e-fb1a-4c42-8fa6-a2cc7de36bbb",
   "metadata": {},
   "outputs": [
    {
     "name": "stdout",
     "output_type": "stream",
     "text": [
      "CustomNumber(8)\n"
     ]
    }
   ],
   "source": [
    "\"\"\"\n",
    "Q64. Explain the usage of the __add__() method in Python classes. Provide an example.\n",
    "\n",
    "SOL.\n",
    "The __add__() method also known as a dunder method, that allows you to define the behavior of the addition operator + when it is used with objects of a custom class. \n",
    "When you define this method in a class, you can control how objects of that class are added together.\n",
    "\"\"\"\n",
    "class CustomNumber:\n",
    "    def __init__(self, value):\n",
    "        self.value = value\n",
    "\n",
    "    def __add__(self, other):\n",
    "        if isinstance(other, CustomNumber):\n",
    "            return CustomNumber(self.value + other.value)\n",
    "        else:\n",
    "            return CustomNumber(self.value + other)\n",
    "\n",
    "    def __repr__(self):\n",
    "        return f\"CustomNumber({self.value})\"\n",
    "\n",
    "num1 = CustomNumber(5)\n",
    "num2 = CustomNumber(3)\n",
    "\n",
    "result = num1 + num2\n",
    "print(result) "
   ]
  },
  {
   "cell_type": "code",
   "execution_count": 7,
   "id": "0b98c636-42eb-46be-887a-eed032ecee5b",
   "metadata": {},
   "outputs": [
    {
     "name": "stdout",
     "output_type": "stream",
     "text": [
      "1\n",
      "3\n"
     ]
    }
   ],
   "source": [
    "\"\"\"\n",
    "Q65.  What is the purpose of the __getitem__() method in Python? Provide an example.\n",
    "\n",
    "SOL.\n",
    "The __getitem__() method in Python is a special method that allows an object to support indexing and slicing operations, similar to how lists and tuples do.\n",
    "This method is called when you use the square bracket notation to access elements of an object.\n",
    "\"\"\"\n",
    "class CustomList:\n",
    "    def __init__(self, elements):\n",
    "        self.elements = elements\n",
    "\n",
    "    def __getitem__(self, index):\n",
    "        return self.elements[index]\n",
    "\n",
    "my_custom_list = CustomList([1, 2, 3, 4, 5])\n",
    "\n",
    "print(my_custom_list[0])\n",
    "print(my_custom_list[2])"
   ]
  },
  {
   "cell_type": "code",
   "execution_count": 8,
   "id": "7445cc38-00a2-44c5-b80f-03a204f4a212",
   "metadata": {},
   "outputs": [
    {
     "name": "stdout",
     "output_type": "stream",
     "text": [
      "1\n",
      "2\n",
      "3\n"
     ]
    }
   ],
   "source": [
    "\"\"\"\n",
    "Q66.  Explain the usage of the __iter__() and __next__() methods in Python. Provide an example using iterators.\n",
    "\n",
    "SOL.\n",
    "The __iter__() and __next__() methods in Python are fundamental to the concept of iterators, which are objects that can be iterated over in a loop, such as with a for loop.\n",
    "\n",
    "The __iter__() method is used to initialize an iterator. It should return the iterator object itself, which is then used in the context of an iteration.\n",
    "The __next__() method is called to get the next item from the sequence. When there are no more items to return, \n",
    "this method should raise a StopIteration exception to signal that the iteration is complete.\n",
    "\"\"\"\n",
    "class Counter:\n",
    "    def __init__(self, low, high):\n",
    "        self.current = low\n",
    "        self.high = high\n",
    "\n",
    "    def __iter__(self):\n",
    "        return self\n",
    "\n",
    "    def __next__(self):\n",
    "        if self.current > self.high:\n",
    "            raise StopIteration\n",
    "        else:\n",
    "            self.current += 1\n",
    "            return self.current - 1\n",
    "\n",
    "counter = Counter(1, 3)\n",
    "for num in counter:\n",
    "    print(num)"
   ]
  },
  {
   "cell_type": "code",
   "execution_count": 9,
   "id": "797c225c-ed65-4ea4-871a-8c7f20a46bd5",
   "metadata": {},
   "outputs": [
    {
     "name": "stdout",
     "output_type": "stream",
     "text": [
      "The person's name is: Alice\n",
      "The person's age is: 30\n"
     ]
    }
   ],
   "source": [
    "\"\"\"\n",
    "Q67.  What is the purpose of a getter method in Python? Provide an example demonstrating the use of a getter method using property decorators.\n",
    "\n",
    "SOL.\n",
    "The purpose of a getter method in Python is to provide a way to access the value of a private attribute without directly exposing the attribute itself. This allows for encapsulation, \n",
    "which is the hiding of implementation details and only exposing a public interface.\n",
    "\"\"\"\n",
    "class Person:\n",
    "    def __init__(self, name, age):\n",
    "        self._name = name\n",
    "        self._age = age\n",
    "\n",
    "    @property\n",
    "    def name(self):\n",
    "        return self._name\n",
    "\n",
    "    @property\n",
    "    def age(self):\n",
    "        return self._age\n",
    "\n",
    "person = Person(\"Alice\", 30)\n",
    "\n",
    "print(f\"The person's name is: {person.name}\")\n",
    "print(f\"The person's age is: {person.age}\")"
   ]
  },
  {
   "cell_type": "code",
   "execution_count": 10,
   "id": "b1bbbde8-5d6e-4d2e-b0e0-ecf4f892ecc5",
   "metadata": {},
   "outputs": [
    {
     "name": "stdout",
     "output_type": "stream",
     "text": [
      "The person's name is now: Bob\n",
      "The person's age is now: 25\n",
      "Name must be a string\n",
      "Age must be a positive integer less than 120\n"
     ]
    }
   ],
   "source": [
    "\"\"\"\n",
    "Q68. Explain the role of setter methods in Python. Demonstrate how to use a setter method to modify a class attribute using property decorators.\n",
    "\n",
    "SOL.\n",
    "Setter methods in Python play a crucial role in object-oriented programming by allowing controlled access to modify the value of private attributes.\n",
    "They are used in conjunction with getter methods to create a property, which is a way to encapsulate data and ensure that only valid data is assigned to an attribute.\n",
    "\"\"\"\n",
    "class Person:\n",
    "    def __init__(self, name, age):\n",
    "        self._name = name\n",
    "        self._age = age\n",
    "\n",
    "    @property\n",
    "    def name(self):\n",
    "        return self._name\n",
    "\n",
    "    @name.setter\n",
    "    def name(self, value):\n",
    "        if isinstance(value, str):\n",
    "            self._name = value\n",
    "        else:\n",
    "            raise ValueError(\"Name must be a string\")\n",
    "\n",
    "    @property\n",
    "    def age(self):\n",
    "        return self._age\n",
    "\n",
    "    @age.setter\n",
    "    def age(self, value):\n",
    "        if isinstance(value, int) and 0 < value < 120:\n",
    "            self._age = value\n",
    "        else:\n",
    "            raise ValueError(\"Age must be a positive integer less than 120\")\n",
    "\n",
    "person = Person(\"Alice\", 30)\n",
    "\n",
    "person.name = \"Bob\"\n",
    "person.age = 25\n",
    "\n",
    "print(f\"The person's name is now: {person.name}\")\n",
    "print(f\"The person's age is now: {person.age}\")\n",
    "\n",
    "try:\n",
    "    person.name = 123 \n",
    "except ValueError as e:\n",
    "    print(e)\n",
    "\n",
    "try:\n",
    "    person.age = -5  \n",
    "except ValueError as e:\n",
    "    print(e)"
   ]
  },
  {
   "cell_type": "code",
   "execution_count": 11,
   "id": "08175dc0-e5ab-41eb-a9e1-b55427cf9bee",
   "metadata": {},
   "outputs": [
    {
     "name": "stdout",
     "output_type": "stream",
     "text": [
      "Radius: 5\n",
      "Diameter: 10\n",
      "Area: 78.53975\n",
      "New radius: 10\n",
      "New diameter: 20\n",
      "New area: 314.159\n",
      "Radius must be non-negative\n"
     ]
    }
   ],
   "source": [
    "\"\"\"\n",
    "Q69. What is the purpose of the @property decorator in Python? Provide an example illustrating its usage.\n",
    "\n",
    "SOL.\n",
    "The @property decorator is used to define properties in a class, which are special methods that get called when you access an attribute with the same name. \n",
    "The purpose of using @property is to provide a way of accessing private attributes without exposing them directly. \n",
    "It allows you to add logic for getting, setting, or deleting an attribute value, which can include validation or computation.\n",
    "\"\"\"\n",
    "class Circle:\n",
    "    def __init__(self, radius):\n",
    "        self._radius = radius\n",
    "\n",
    "    @property\n",
    "    def radius(self):\n",
    "        \"\"\"Get the radius of the circle.\"\"\"\n",
    "        return self._radius\n",
    "\n",
    "    @radius.setter\n",
    "    def radius(self, value):\n",
    "        \"\"\"Set the radius of the circle. Must be non-negative.\"\"\"\n",
    "        if value >= 0:\n",
    "            self._radius = value\n",
    "        else:\n",
    "            raise ValueError(\"Radius must be non-negative\")\n",
    "\n",
    "    @property\n",
    "    def diameter(self):\n",
    "        \"\"\"Get the diameter of the circle.\"\"\"\n",
    "        return self._radius * 2\n",
    "\n",
    "    @property\n",
    "    def area(self):\n",
    "        \"\"\"Get the area of the circle.\"\"\"\n",
    "        return 3.14159 * self._radius ** 2\n",
    "\n",
    "# Example usage:\n",
    "circle = Circle(5)\n",
    "print(f\"Radius: {circle.radius}\")\n",
    "print(f\"Diameter: {circle.diameter}\")\n",
    "print(f\"Area: {circle.area}\") \n",
    "\n",
    "# Setting the radius to a new value\n",
    "circle.radius = 10\n",
    "print(f\"New radius: {circle.radius}\") \n",
    "print(f\"New diameter: {circle.diameter}\") \n",
    "print(f\"New area: {circle.area}\")  \n",
    "\n",
    "try:\n",
    "    circle.radius = -2\n",
    "except ValueError as e:\n",
    "    print(e)"
   ]
  },
  {
   "cell_type": "code",
   "execution_count": 12,
   "id": "0389af35-c14b-4c07-9393-d32b727f4d35",
   "metadata": {},
   "outputs": [
    {
     "name": "stdout",
     "output_type": "stream",
     "text": [
      "Radius: 5\n",
      "Diameter: 10\n",
      "Area: 78.53975\n",
      "New radius: 10\n",
      "New diameter: 20\n",
      "New area: 314.159\n",
      "Radius must be non-negative\n"
     ]
    }
   ],
   "source": [
    "\"\"\"\n",
    "Q70.  Explain the use of the @deleter decorator in Python property decorators. Provide a code example demonstrating its application.\n",
    "\n",
    "SOL.\n",
    "The @property decorator in Python is used to define properties in a class, which are special methods that get called when you access an attribute with the same name. \n",
    "The purpose of using @property is to provide a way of accessing private attributes without exposing them directly. It allows you to add logic for getting, setting, or deleting an attribute value, which can include validation or computation.\n",
    "\"\"\"\n",
    "class Circle:\n",
    "    def __init__(self, radius):\n",
    "        self._radius = radius\n",
    "\n",
    "    @property\n",
    "    def radius(self):\n",
    "        \"\"\"Get the radius of the circle.\"\"\"\n",
    "        return self._radius\n",
    "\n",
    "    @radius.setter\n",
    "    def radius(self, value):\n",
    "        \"\"\"Set the radius of the circle. Must be non-negative.\"\"\"\n",
    "        if value >= 0:\n",
    "            self._radius = value\n",
    "        else:\n",
    "            raise ValueError(\"Radius must be non-negative\")\n",
    "\n",
    "    @property\n",
    "    def diameter(self):\n",
    "        \"\"\"Get the diameter of the circle.\"\"\"\n",
    "        return self._radius * 2\n",
    "\n",
    "    @property\n",
    "    def area(self):\n",
    "        \"\"\"Get the area of the circle.\"\"\"\n",
    "        return 3.14159 * self._radius ** 2\n",
    "\n",
    "# Example usage:\n",
    "circle = Circle(5)\n",
    "print(f\"Radius: {circle.radius}\")  # Output: Radius: 5\n",
    "print(f\"Diameter: {circle.diameter}\")  # Output: Diameter: 10\n",
    "print(f\"Area: {circle.area}\")  # Output: Area: 78.53975\n",
    "\n",
    "# Setting the radius to a new value\n",
    "circle.radius = 10\n",
    "print(f\"New radius: {circle.radius}\")  # Output: New radius: 10\n",
    "print(f\"New diameter: {circle.diameter}\")  # Output: New diameter: 20\n",
    "print(f\"New area: {circle.area}\")  # Output: New area: 314.159\n",
    "\n",
    "# Attempting to set the radius to a negative value will raise an error\n",
    "try:\n",
    "    circle.radius = -2\n",
    "except ValueError as e:\n",
    "    print(e)"
   ]
  },
  {
   "cell_type": "code",
   "execution_count": 13,
   "id": "49596b5c-390f-4ed4-9b13-8e4e41f273b5",
   "metadata": {},
   "outputs": [
    {
     "name": "stdout",
     "output_type": "stream",
     "text": [
      "Account Number: 123456789\n",
      "Balance: 1000\n",
      "Balance after deposit: 1500\n",
      "Balance after withdrawal: 1300\n",
      "Balance cannot be negative.\n",
      "Insufficient funds or invalid withdrawal amount.\n"
     ]
    }
   ],
   "source": [
    "\"\"\"\n",
    "Q71.  How does encapsulation relate to property decorators in Python? Provide an example showcasing encapsulation using property decorators.\n",
    "\n",
    "SOL.\n",
    "Encapsulation in Python is a fundamental concept of object-oriented programming that involves bundling data and methods that work on the data within one unit, such as a class. \n",
    "This concept is used to hide the internal state of an object from the outside world and restrict direct access to it. Property decorators in Python are a practical way to achieve \n",
    "encapsulation by providing controlled access to the data through getter and setter methods.\n",
    "\"\"\"\n",
    "class BankAccount:\n",
    "    def __init__(self, account_number, balance):\n",
    "        self._account_number = account_number\n",
    "        self._balance = balance\n",
    "\n",
    "    @property\n",
    "    def account_number(self):\n",
    "        return self._account_number\n",
    "\n",
    "    @property\n",
    "    def balance(self):\n",
    "        return self._balance\n",
    "\n",
    "    @balance.setter\n",
    "    def balance(self, value):\n",
    "        if value < 0:\n",
    "            raise ValueError(\"Balance cannot be negative.\")\n",
    "        self._balance = value\n",
    "\n",
    "    def deposit(self, amount):\n",
    "        if amount > 0:\n",
    "            self._balance += amount\n",
    "        else:\n",
    "            raise ValueError(\"Deposit amount must be positive.\")\n",
    "\n",
    "    def withdraw(self, amount):\n",
    "        if 0 < amount <= self._balance:\n",
    "            self._balance -= amount\n",
    "        else:\n",
    "            raise ValueError(\"Insufficient funds or invalid withdrawal amount.\")\n",
    "\n",
    "# Example usage:\n",
    "account = BankAccount(\"123456789\", 1000)\n",
    "\n",
    "# Accessing the account number and balance using property decorators\n",
    "print(f\"Account Number: {account.account_number}\")\n",
    "print(f\"Balance: {account.balance}\")\n",
    "\n",
    "# Depositing money\n",
    "account.deposit(500)\n",
    "print(f\"Balance after deposit: {account.balance}\")\n",
    "\n",
    "# Withdrawing money\n",
    "account.withdraw(200)\n",
    "print(f\"Balance after withdrawal: {account.balance}\")\n",
    "\n",
    "# Attempting to set a negative balance will raise a ValueError\n",
    "try:\n",
    "    account.balance = -100\n",
    "except ValueError as e:\n",
    "    print(e)\n",
    "\n",
    "# Attempting to withdraw more money than the balance will raise a ValueError\n",
    "try:\n",
    "    account.withdraw(2000)\n",
    "except ValueError as e:\n",
    "    print(e)\n",
    "    "
   ]
  },
  {
   "cell_type": "code",
   "execution_count": null,
   "id": "92c0ae47-0db0-49a4-b1ad-90052161d6da",
   "metadata": {},
   "outputs": [],
   "source": []
  }
 ],
 "metadata": {
  "kernelspec": {
   "display_name": "Python 3 (ipykernel)",
   "language": "python",
   "name": "python3"
  },
  "language_info": {
   "codemirror_mode": {
    "name": "ipython",
    "version": 3
   },
   "file_extension": ".py",
   "mimetype": "text/x-python",
   "name": "python",
   "nbconvert_exporter": "python",
   "pygments_lexer": "ipython3",
   "version": "3.10.8"
  }
 },
 "nbformat": 4,
 "nbformat_minor": 5
}
